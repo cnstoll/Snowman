{
 "cells": [
  {
   "cell_type": "code",
   "execution_count": null,
   "metadata": {},
   "outputs": [],
   "source": [
    "# load the data - download in matlab format from:\n",
    "# https://www.nist.gov/itl/iad/image-group/emnist-dataset\n",
    "import scipy.io\n",
    "mat = scipy.io.loadmat('../Dataset/emnist-letters.mat')\n",
    "d = mat['dataset']\n",
    "images = d[0,0]['train'][0,0]['images']\n",
    "labels = d[0,0]['train'][0,0]['labels']\n",
    "test_images = d[0,0]['test'][0,0]['images']\n",
    "test_labels = d[0,0]['test'][0,0]['labels']\n",
    "\n",
    "print('done')"
   ]
  },
  {
   "cell_type": "code",
   "execution_count": null,
   "metadata": {},
   "outputs": [],
   "source": [
    "import numpy as np  # number library\n",
    "n= 10000             # size of training set\n",
    "\n",
    "# format the images and labels\n",
    "images_2 = np.asarray(images[0:n][:],dtype=np.float64)/255\n",
    "labels_2 = np.asarray(labels[0:n],dtype=np.int32).ravel();\n",
    "test_images_2 = np.asarray(test_images,dtype=np.float64)/255\n",
    "test_labels_2 = np.asarray(test_labels,dtype=np.int32).ravel();\n",
    "\n",
    "print('done')"
   ]
  },
  {
   "cell_type": "code",
   "execution_count": null,
   "metadata": {},
   "outputs": [],
   "source": [
    "# learn the model\n",
    "\n",
    "import time   #for timing the model\n",
    "start = time.time()\n",
    "\n",
    "# actually learning the model\n",
    "from sklearn import svm\n",
    "clf = svm.SVC()\n",
    "clf.fit(images_2,labels_2)\n",
    "\n",
    "end = time.time()\n",
    "print(end - start)\n",
    "print('done')"
   ]
  },
  {
   "cell_type": "code",
   "execution_count": null,
   "metadata": {},
   "outputs": [],
   "source": [
    "start = time.time()\n",
    "#\n",
    "answers = clf.predict(test_images_2[:10000][:])\n",
    "#\n",
    "end = time.time()\n",
    "print(end-start)\n",
    "print('done')"
   ]
  },
  {
   "cell_type": "code",
   "execution_count": null,
   "metadata": {},
   "outputs": [],
   "source": [
    "s=[i==j for i,j in zip(test_labels_2,answers)]\n",
    "100*sum(s)/len(s)"
   ]
  },
  {
   "cell_type": "code",
   "execution_count": null,
   "metadata": {
    "collapsed": true
   },
   "outputs": [],
   "source": [
    "import coremltools\n",
    "\n",
    "coreml_model = coremltools.converters.sklearn.convert(clf, \"imageAlphaValues\", output_feature_names='letterIndex')\n",
    "\n",
    "coreml_model.author = 'Kate Bonnen and Conrad Stoll'\n",
    "coreml_model.license = 'MIT'\n",
    "\n",
    "coreml_model.short_description = \"Recognize the hand-drawn letter from an input image.\"\n",
    "\n",
    "coreml_model.input_description['imageAlphaValues'] = 'The input image alpha values from top down left to right.'\n",
    "coreml_model.output_description['letterIndex'] = 'Most likely letter index, ranging from 1 to 26.'\n",
    "\n",
    "coreml_model.save('../Models/letters_svm'+'.mlmodel')"
   ]
  },
  {
   "cell_type": "code",
   "execution_count": null,
   "metadata": {
    "collapsed": true
   },
   "outputs": [],
   "source": []
  }
 ],
 "metadata": {
  "anaconda-cloud": {},
  "kernelspec": {
   "display_name": "Python 2",
   "language": "python",
   "name": "python2"
  },
  "language_info": {
   "codemirror_mode": {
    "name": "ipython",
    "version": 2
   },
   "file_extension": ".py",
   "mimetype": "text/x-python",
   "name": "python",
   "nbconvert_exporter": "python",
   "pygments_lexer": "ipython2",
   "version": "2.7.13"
  }
 },
 "nbformat": 4,
 "nbformat_minor": 1
}
